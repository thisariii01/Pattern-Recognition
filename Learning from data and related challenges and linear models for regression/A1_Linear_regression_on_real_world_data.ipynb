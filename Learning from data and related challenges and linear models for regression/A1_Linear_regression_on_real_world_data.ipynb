{
  "nbformat": 4,
  "nbformat_minor": 0,
  "metadata": {
    "colab": {
      "provenance": []
    },
    "kernelspec": {
      "name": "python3",
      "display_name": "Python 3"
    },
    "language_info": {
      "name": "python"
    }
  },
  "cells": [
    {
      "cell_type": "code",
      "execution_count": 2,
      "metadata": {
        "colab": {
          "base_uri": "https://localhost:8080/"
        },
        "id": "u_H_PL3yeBDM",
        "outputId": "d9da2988-759d-4842-c6a9-e0d1352062f4"
      },
      "outputs": [
        {
          "output_type": "stream",
          "name": "stdout",
          "text": [
            "Drive already mounted at /content/drive; to attempt to forcibly remount, call drive.mount(\"/content/drive\", force_remount=True).\n",
            "   sample index     TV  radio  newspaper  sales\n",
            "0             1  230.1   37.8       69.2   22.1\n",
            "1             2   44.5   39.3       45.1   10.4\n",
            "2             3   17.2   45.9       69.3    9.3\n",
            "3             4  151.5   41.3       58.5   18.5\n",
            "4             5  180.8   10.8       58.4   12.9\n"
          ]
        }
      ],
      "source": [
        "# Importing the data\n",
        "from google.colab import drive\n",
        "drive.mount('/content/drive')\n",
        "import numpy as np\n",
        "import pandas as pd\n",
        "# Load data from CSV\n",
        "file_path = r'/content/drive/MyDrive/PR/Advertising1.csv'\n",
        "df = pd.read_csv(file_path)\n",
        "print (df.head())"
      ]
    },
    {
      "cell_type": "code",
      "source": [
        "# Splitting the data into training and testing\n",
        "from sklearn.model_selection import train_test_split\n",
        "\n",
        "X = df[['TV', 'radio', 'newspaper']]\n",
        "y = df['sales']\n",
        "\n",
        "# using the train test split function\n",
        "X_train, X_test, y_train, y_test = train_test_split(X, y, random_state=42, test_size=0.20)"
      ],
      "metadata": {
        "id": "uYPUMjtCfdAq"
      },
      "execution_count": 3,
      "outputs": []
    },
    {
      "cell_type": "code",
      "source": [
        "# Training a linear regression model\n",
        "from sklearn.linear_model import LinearRegression\n",
        "model = LinearRegression().fit(X_train, y_train)\n",
        "\n",
        "# Estimating the coefficients\n",
        "intercept = model.intercept_\n",
        "coefficients = model.coef_\n",
        "\n",
        "print(f\"intercept: {model.intercept_}\")\n",
        "print(f\"coefficients: {model.coef_}\")"
      ],
      "metadata": {
        "colab": {
          "base_uri": "https://localhost:8080/"
        },
        "id": "Ld72N8cTlwpp",
        "outputId": "0535a39f-eba0-4b56-90d4-ce9e71a85b53"
      },
      "execution_count": 15,
      "outputs": [
        {
          "output_type": "stream",
          "name": "stdout",
          "text": [
            "intercept: 2.979067338122629\n",
            "coefficients: [0.04472952 0.18919505 0.00276111]\n"
          ]
        }
      ]
    },
    {
      "cell_type": "code",
      "source": [
        "# Calculating model statistics\n",
        "from scipy.stats import t\n",
        "import statsmodels.api as sm\n",
        "\n",
        "# Fit a linear regression model on the training data\n",
        "X_train_const = sm.add_constant(X_train)\n",
        "sm_model = sm.OLS(y_train, X_train_const).fit()\n",
        "\n",
        "# Get predictions for both training and testing data\n",
        "y_pred_train = model.predict(X_train)\n",
        "y_pred_test = model.predict(X_test)\n",
        "\n",
        "# RSS (Residual Sum of Squares)\n",
        "rss_train = np.sum((y_train - y_pred_train) ** 2)\n",
        "rss_test = np.sum((y_test - y_pred_test) ** 2)\n",
        "\n",
        "#RSE (Residual Standard Error)\n",
        "N_train, N_test = len(y_train), len(y_test)\n",
        "d = X_train.shape[1] - 1  # Number of model parameters (excluding the intercept)\n",
        "rse_train = np.sqrt(rss_train / (N_train - d))\n",
        "rse_test = np.sqrt(rss_test / (N_test - d))\n",
        "\n",
        "# MSE (Mean Squared Error)\n",
        "mse_train = np.mean((y_train - y_pred_train) ** 2)\n",
        "mse_test = np.mean((y_test - y_pred_test) ** 2)\n",
        "\n",
        "# R-squared (R2) statistic\n",
        "tss_train = np.sum((y_train - np.mean(y_train)) ** 2)\n",
        "tss_test = np.sum((y_test - np.mean(y_test)) ** 2)\n",
        "\n",
        "r2_train = 1 - (rss_train / tss_train)\n",
        "r2_test = 1 - (rss_test / tss_test)\n",
        "\n",
        "# Standard Error\n",
        "# Training data\n",
        "X_train_ = np.hstack((np.ones((N_train, 1)), X_train))\n",
        "sigma2_train = rse_train**2\n",
        "XTX_train = np.dot(X_train_.T, X_train_)\n",
        "XTX_inv_train = np.linalg.inv(XTX_train)\n",
        "se_train = np.sqrt(np.diagonal(sigma2_train * XTX_inv_train))\n",
        "std_error_w0_train = se_train[0]\n",
        "std_error_tv_train = se_train[1]\n",
        "std_error_radio_train = se_train[2]\n",
        "std_error_newspaper_train = se_train[3]\n",
        "\n",
        "# Testing data\n",
        "X_test_ = np.hstack((np.ones((N_test, 1)), X_test))\n",
        "sigma2_test = rse_test**2\n",
        "XTX_test = np.dot(X_test_.T, X_test_)\n",
        "XTX_inv_test = np.linalg.inv(XTX_test)\n",
        "se_test = np.sqrt(np.diagonal(sigma2_test * XTX_inv_test))\n",
        "std_error_w0_test = se_test[0]\n",
        "std_error_tv_test = se_test[1]\n",
        "std_error_radio_test = se_test[2]\n",
        "std_error_newspaper_test = se_test[3]\n",
        "\n",
        "# t-statistic\n",
        "# Training data\n",
        "# Calculate the t-statistics for each feature in the training data\n",
        "t_statistic_w0_train = intercept / std_error_w0_train\n",
        "t_statistic_tv_train = coefficients[0] / std_error_tv_train\n",
        "t_statistic_radio_train = coefficients[1] / std_error_radio_train\n",
        "t_statistic_newspaper_train = coefficients[2] / std_error_newspaper_train\n",
        "\n",
        "# Testing data\n",
        "# Calculate the t-statistics for each feature in the training data\n",
        "t_statistic_w0_test = intercept / std_error_w0_test\n",
        "t_statistic_tv_test = coefficients[0] / std_error_tv_test\n",
        "t_statistic_radio_test = coefficients[1] / std_error_radio_test\n",
        "t_statistic_newspaper_test = coefficients[2] / std_error_newspaper_test\n",
        "\n",
        "# p-value\n",
        "# Training data\n",
        "# Degrees of freedom\n",
        "degrees_of_freedom_train = N_train - (d) # d is the number of model parameters\n",
        "\n",
        "# Calculate the p-values for each feature in the training data\n",
        "p_value_w0_train = 2 * (1 - t.cdf(np.abs(t_statistic_w0_train), df=degrees_of_freedom_train))\n",
        "p_value_tv_train = 2 * (1 - t.cdf(np.abs(t_statistic_tv_train), df=degrees_of_freedom_train))\n",
        "p_value_radio_train = 2 * (1 - t.cdf(np.abs(t_statistic_radio_train), df=degrees_of_freedom_train))\n",
        "p_value_newspaper_train = 2 * (1 - t.cdf(np.abs(t_statistic_newspaper_train), df=degrees_of_freedom_train))\n",
        "\n",
        "# Testing data\n",
        "# Degrees of freedom\n",
        "degrees_of_freedom_test = N_test - (d)  # d is the number of model parameters\n",
        "\n",
        "# Calculate the p-values for each feature in the training data\n",
        "p_value_w0_test = 2 * (1 - t.cdf(np.abs(t_statistic_w0_test), df=degrees_of_freedom_test))\n",
        "p_value_tv_test = 2 * (1 - t.cdf(np.abs(t_statistic_tv_test), df=degrees_of_freedom_test))\n",
        "p_value_radio_test = 2 * (1 - t.cdf(np.abs(t_statistic_radio_test), df=degrees_of_freedom_test))\n",
        "p_value_newspaper_test = 2 * (1 - t.cdf(np.abs(t_statistic_newspaper_test), df=degrees_of_freedom_test))\n"
      ],
      "metadata": {
        "id": "yX80XnizF_AP"
      },
      "execution_count": 16,
      "outputs": []
    },
    {
      "cell_type": "code",
      "source": [
        "# Displaying training data statistics\n",
        "print(\"Training Data:\")\n",
        "print(f\"\\nRSS : {rss_train}\")\n",
        "print(f\"RSE : {rse_train}\")\n",
        "print(f\"MSE : {mse_train}\")\n",
        "print(f\"R2 : {r2_train}\")\n",
        "print(\"\\nStandard Errors : \")\n",
        "print(f\"intercept : {std_error_w0_train}\")\n",
        "print(f\"TV : {std_error_tv_train}\")\n",
        "print(f\"radio : {std_error_radio_train}\")\n",
        "print(f\"newspaper : {std_error_newspaper_train}\")\n",
        "print(\"\\nt-Statistics : \")\n",
        "print(f\"intercept : {t_statistic_w0_train}\")\n",
        "print(f\"TV : {t_statistic_tv_train}\")\n",
        "print(f\"radio : {t_statistic_radio_train}\")\n",
        "print(f\"newspaper : {t_statistic_newspaper_train}\")\n",
        "print(\"\\np-Values : \")\n",
        "print(f\"intercept : {p_value_w0_train}\")\n",
        "print(f\"TV : {p_value_tv_train}\")\n",
        "print(f\"radio : {p_value_radio_train}\")\n",
        "print(f\"newspaper : {p_value_newspaper_train}\")"
      ],
      "metadata": {
        "colab": {
          "base_uri": "https://localhost:8080/"
        },
        "id": "ome1AZyN5O1A",
        "outputId": "9df11d8a-1f55-40d4-ac71-52e88a4c5fa0"
      },
      "execution_count": 17,
      "outputs": [
        {
          "output_type": "stream",
          "name": "stdout",
          "text": [
            "Training Data:\n",
            "\n",
            "RSS : 432.8207076930262\n",
            "RSE : 1.6551046999139907\n",
            "MSE : 2.705129423081414\n",
            "R2 : 0.8957008271017818\n",
            "\n",
            "Standard Errors : \n",
            "intercept : 0.3512719617827373\n",
            "TV : 0.0015571104695243736\n",
            "radio : 0.00963184161400032\n",
            "newspaper : 0.007003206547849787\n",
            "\n",
            "t-Statistics : \n",
            "intercept : 8.480800240940354\n",
            "TV : 28.72597567363294\n",
            "radio : 19.64266666920404\n",
            "newspaper : 0.39426430200247997\n",
            "\n",
            "p-Values : \n",
            "intercept : 1.509903313490213e-14\n",
            "TV : 0.0\n",
            "radio : 0.0\n",
            "newspaper : 0.693917549816129\n"
          ]
        }
      ]
    },
    {
      "cell_type": "code",
      "source": [
        "# Displaying testing data statistics\n",
        "print(\"Testing Data:\")\n",
        "print(f\"\\nRSS : {rss_test}\")\n",
        "print(f\"RSE : {rse_test}\")\n",
        "print(f\"MSE : {mse_test}\")\n",
        "print(f\"R2 : {r2_test}\")\n",
        "print(\"\\nStandard Errors : \")\n",
        "print(f\"intercept : {std_error_w0_test}\")\n",
        "print(f\"TV : {std_error_tv_test}\")\n",
        "print(f\"radio : {std_error_radio_test}\")\n",
        "print(f\"newspaper : {std_error_newspaper_test}\")\n",
        "print(\"\\nt-Statistics : \")\n",
        "print(f\"intercept : {t_statistic_w0_test}\")\n",
        "print(f\"TV : {t_statistic_tv_test}\")\n",
        "print(f\"radio : {t_statistic_radio_test}\")\n",
        "print(f\"newspaper : {t_statistic_newspaper_test}\")\n",
        "print(\"\\np-Values : \")\n",
        "print(f\"intercept : {p_value_w0_test}\")\n",
        "print(f\"TV : {p_value_tv_test}\")\n",
        "print(f\"radio : {p_value_radio_test}\")\n",
        "print(f\"newspaper : {p_value_newspaper_test}\")"
      ],
      "metadata": {
        "colab": {
          "base_uri": "https://localhost:8080/"
        },
        "id": "KHFZeoOZ5YH3",
        "outputId": "9c77bdb0-619a-4ea5-f5d3-652a4597ce22"
      },
      "execution_count": 18,
      "outputs": [
        {
          "output_type": "stream",
          "name": "stdout",
          "text": [
            "Testing Data:\n",
            "\n",
            "RSS : 126.96389415904413\n",
            "RSE : 1.8278826848155574\n",
            "MSE : 3.1740973539761033\n",
            "R2 : 0.899438024100912\n",
            "\n",
            "Standard Errors : \n",
            "intercept : 0.7105934325996864\n",
            "TV : 0.0032532468664630393\n",
            "radio : 0.020046686274825445\n",
            "newspaper : 0.01138375274950763\n",
            "\n",
            "t-Statistics : \n",
            "intercept : 4.192365425083924\n",
            "TV : 13.749192515890034\n",
            "radio : 9.437722107317406\n",
            "newspaper : 0.24254869216889985\n",
            "\n",
            "p-Values : \n",
            "intercept : 0.00015892309072174093\n",
            "TV : 2.220446049250313e-16\n",
            "radio : 1.662869841823067e-11\n",
            "newspaper : 0.809659422215083\n"
          ]
        }
      ]
    },
    {
      "cell_type": "code",
      "source": [
        "# Validating manually calculated values\n",
        "print(sm_model.summary())"
      ],
      "metadata": {
        "colab": {
          "base_uri": "https://localhost:8080/"
        },
        "id": "T-ysJrc35nlc",
        "outputId": "94dd4a9b-8825-4a94-c9a8-d755dbaf66e1"
      },
      "execution_count": 11,
      "outputs": [
        {
          "output_type": "stream",
          "name": "stdout",
          "text": [
            "                            OLS Regression Results                            \n",
            "==============================================================================\n",
            "Dep. Variable:                  sales   R-squared:                       0.896\n",
            "Model:                            OLS   Adj. R-squared:                  0.894\n",
            "Method:                 Least Squares   F-statistic:                     446.6\n",
            "Date:                Fri, 08 Sep 2023   Prob (F-statistic):           2.53e-76\n",
            "Time:                        17:48:52   Log-Likelihood:                -306.64\n",
            "No. Observations:                 160   AIC:                             621.3\n",
            "Df Residuals:                     156   BIC:                             633.6\n",
            "Df Model:                           3                                         \n",
            "Covariance Type:            nonrobust                                         \n",
            "==============================================================================\n",
            "                 coef    std err          t      P>|t|      [0.025      0.975]\n",
            "------------------------------------------------------------------------------\n",
            "const          2.9791      0.354      8.427      0.000       2.281       3.677\n",
            "TV             0.0447      0.002     28.544      0.000       0.042       0.048\n",
            "radio          0.1892      0.010     19.518      0.000       0.170       0.208\n",
            "newspaper      0.0028      0.007      0.392      0.696      -0.011       0.017\n",
            "==============================================================================\n",
            "Omnibus:                       67.697   Durbin-Watson:                   2.161\n",
            "Prob(Omnibus):                  0.000   Jarque-Bera (JB):              240.326\n",
            "Skew:                          -1.627   Prob(JB):                     6.52e-53\n",
            "Kurtosis:                       8.046   Cond. No.                         471.\n",
            "==============================================================================\n",
            "\n",
            "Notes:\n",
            "[1] Standard Errors assume that the covariance matrix of the errors is correctly specified.\n"
          ]
        }
      ]
    },
    {
      "cell_type": "code",
      "source": [
        "# Allocating 25,000 dollars each for both television and radio advertising\n",
        "print(f\"Estimated sales by allocating 25,000 dollars each for both television and radio advertising: {sm_model.predict([1, 25, 25, 0])}\")\n",
        "\n",
        "# Allocating 50,000 dollars for television advertising\n",
        "print(f\"Estimated sales by allocating 50,000 dollars for television advertising : {sm_model.predict([1, 50, 0, 0])}\")\n",
        "\n",
        "# Allocating 50,000 dollars for television advertising\n",
        "print(f\"Estimated sales by allocating 50,000 dollars for television advertising: {sm_model.predict([1, 0, 50, 0])}\")"
      ],
      "metadata": {
        "colab": {
          "base_uri": "https://localhost:8080/"
        },
        "id": "oy3nWurYySxH",
        "outputId": "40896418-288b-4c0e-f74c-64737e682137"
      },
      "execution_count": 6,
      "outputs": [
        {
          "output_type": "stream",
          "name": "stdout",
          "text": [
            "Estimated sales by allocating 25,000 dollars each for both television and radio advertising: [8.82718163]\n",
            "Estimated sales by allocating 50,000 dollars for television advertising : [5.21554321]\n",
            "Estimated sales by allocating 50,000 dollars for television advertising: [12.43882005]\n"
          ]
        }
      ]
    }
  ]
}